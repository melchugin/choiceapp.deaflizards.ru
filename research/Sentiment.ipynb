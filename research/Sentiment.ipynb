{
 "cells": [
  {
   "cell_type": "markdown",
   "metadata": {},
   "source": [
    "### Импорты для Текста!"
   ]
  },
  {
   "cell_type": "code",
   "execution_count": 1,
   "metadata": {},
   "outputs": [],
   "source": [
    "import nltk\n",
    "from nltk.tokenize import word_tokenize\n",
    "from navec import Navec\n",
    "import re"
   ]
  },
  {
   "cell_type": "markdown",
   "metadata": {},
   "source": [
    "### Общие импорты"
   ]
  },
  {
   "cell_type": "code",
   "execution_count": 1,
   "metadata": {},
   "outputs": [],
   "source": [
    "import numpy as np\n",
    "import pandas as pd\n",
    "import seaborn as sns"
   ]
  },
  {
   "cell_type": "markdown",
   "metadata": {},
   "source": [
    "## Импорты для сети"
   ]
  },
  {
   "cell_type": "code",
   "execution_count": 12,
   "metadata": {},
   "outputs": [],
   "source": [
    "from keras.models import Sequential, Input, load_model\n",
    "from keras.layers import Dense, LSTM, SpatialDropout1D\n",
    "from random import sample"
   ]
  },
  {
   "cell_type": "markdown",
   "metadata": {},
   "source": [
    "### Импорты для ресерча!"
   ]
  },
  {
   "cell_type": "code",
   "execution_count": 1,
   "metadata": {},
   "outputs": [
    {
     "name": "stdout",
     "output_type": "stream",
     "text": [
      "Populating the interactive namespace from numpy and matplotlib\n"
     ]
    }
   ],
   "source": [
    "import pickle\n",
    "%pylab inline"
   ]
  },
  {
   "cell_type": "markdown",
   "metadata": {},
   "source": [
    "## Настройка работы с текстом (загрузка)"
   ]
  },
  {
   "cell_type": "code",
   "execution_count": 5,
   "metadata": {},
   "outputs": [],
   "source": [
    "path = 'navec_hudlit_v1_12B_500K_300d_100q.tar'"
   ]
  },
  {
   "cell_type": "code",
   "execution_count": 6,
   "metadata": {},
   "outputs": [],
   "source": [
    "navec = Navec.load(path)"
   ]
  },
  {
   "cell_type": "markdown",
   "metadata": {},
   "source": [
    "# Пример текста"
   ]
  },
  {
   "cell_type": "code",
   "execution_count": 7,
   "metadata": {},
   "outputs": [],
   "source": [
    "profile = \"Я хочу быть дизайнером, но получается программистом, возьмите на работу пожалуйста\""
   ]
  },
  {
   "cell_type": "markdown",
   "metadata": {},
   "source": [
    "Токенизируем"
   ]
  },
  {
   "cell_type": "code",
   "execution_count": 8,
   "metadata": {},
   "outputs": [],
   "source": [
    "token = word_tokenize(''.join( c for c in re.sub(r'\\b\\w{1,3}\\b', '', profile) if  c not in '.,!()-:?' ))"
   ]
  },
  {
   "cell_type": "code",
   "execution_count": 9,
   "metadata": {},
   "outputs": [
    {
     "data": {
      "text/plain": [
       "['хочу',\n",
       " 'быть',\n",
       " 'дизайнером',\n",
       " 'получается',\n",
       " 'программистом',\n",
       " 'возьмите',\n",
       " 'работу',\n",
       " 'пожалуйста']"
      ]
     },
     "execution_count": 9,
     "metadata": {},
     "output_type": "execute_result"
    }
   ],
   "source": [
    "token"
   ]
  },
  {
   "cell_type": "markdown",
   "metadata": {},
   "source": [
    "# Русский Word2vec"
   ]
  },
  {
   "cell_type": "code",
   "execution_count": 10,
   "metadata": {},
   "outputs": [],
   "source": [
    "token_vectors = np.array([navec[x] for x in token])"
   ]
  },
  {
   "cell_type": "code",
   "execution_count": 11,
   "metadata": {},
   "outputs": [
    {
     "name": "stdout",
     "output_type": "stream",
     "text": [
      "(8, 300)\n"
     ]
    }
   ],
   "source": [
    "print(token_vectors.shape)"
   ]
  },
  {
   "cell_type": "markdown",
   "metadata": {},
   "source": [
    "# Грузим данные из твиттов, на них поучимся"
   ]
  },
  {
   "cell_type": "code",
   "execution_count": 12,
   "metadata": {},
   "outputs": [],
   "source": [
    "positive = pd.read_csv(\"train_data/positive.csv\", delimiter=\";\", index_col=False)\n",
    "negative = pd.read_csv(\"train_data/negative.csv\", delimiter=\";\", index_col=False)\n",
    "positive['ttext'] = positive['ttext'].apply(lambda x: x.lower())\n",
    "positive['ttext'] = positive['ttext'].apply((lambda x: re.sub('[^a-zA-z0-9\\s]','',x)))\n",
    "negative['ttext'] = negative['ttext'].apply(lambda x: x.lower())\n",
    "negative['ttext'] = negative['ttext'].apply((lambda x: re.sub('[^a-zA-z0-9\\s]','',x)))"
   ]
  },
  {
   "cell_type": "code",
   "execution_count": 13,
   "metadata": {},
   "outputs": [
    {
     "data": {
      "text/html": [
       "<div>\n",
       "<style scoped>\n",
       "    .dataframe tbody tr th:only-of-type {\n",
       "        vertical-align: middle;\n",
       "    }\n",
       "\n",
       "    .dataframe tbody tr th {\n",
       "        vertical-align: top;\n",
       "    }\n",
       "\n",
       "    .dataframe thead th {\n",
       "        text-align: right;\n",
       "    }\n",
       "</style>\n",
       "<table border=\"1\" class=\"dataframe\">\n",
       "  <thead>\n",
       "    <tr style=\"text-align: right;\">\n",
       "      <th></th>\n",
       "      <th>id</th>\n",
       "      <th>tdate</th>\n",
       "      <th>tmane</th>\n",
       "      <th>ttext</th>\n",
       "      <th>ttype</th>\n",
       "      <th>trep</th>\n",
       "      <th>tfav</th>\n",
       "      <th>tstcount</th>\n",
       "      <th>tfol</th>\n",
       "      <th>tfrien</th>\n",
       "      <th>listcount</th>\n",
       "    </tr>\n",
       "  </thead>\n",
       "  <tbody>\n",
       "    <tr>\n",
       "      <th>0</th>\n",
       "      <td>408906762813579264</td>\n",
       "      <td>1386325944</td>\n",
       "      <td>dugarchikbellko</td>\n",
       "      <td>d</td>\n",
       "      <td>-1</td>\n",
       "      <td>0</td>\n",
       "      <td>0</td>\n",
       "      <td>0</td>\n",
       "      <td>8064</td>\n",
       "      <td>111</td>\n",
       "      <td>94</td>\n",
       "    </tr>\n",
       "    <tr>\n",
       "      <th>1</th>\n",
       "      <td>408906818262687744</td>\n",
       "      <td>1386325957</td>\n",
       "      <td>nugemycejela</td>\n",
       "      <td>urban terror</td>\n",
       "      <td>-1</td>\n",
       "      <td>0</td>\n",
       "      <td>0</td>\n",
       "      <td>0</td>\n",
       "      <td>26</td>\n",
       "      <td>42</td>\n",
       "      <td>39</td>\n",
       "    </tr>\n",
       "    <tr>\n",
       "      <th>2</th>\n",
       "      <td>408906858515398656</td>\n",
       "      <td>1386325966</td>\n",
       "      <td>4post21</td>\n",
       "      <td>elina_4post</td>\n",
       "      <td>-1</td>\n",
       "      <td>0</td>\n",
       "      <td>0</td>\n",
       "      <td>0</td>\n",
       "      <td>718</td>\n",
       "      <td>49</td>\n",
       "      <td>249</td>\n",
       "    </tr>\n",
       "    <tr>\n",
       "      <th>3</th>\n",
       "      <td>408906914437685248</td>\n",
       "      <td>1386325980</td>\n",
       "      <td>Poliwake</td>\n",
       "      <td>httptcojclnzvnv3s</td>\n",
       "      <td>-1</td>\n",
       "      <td>0</td>\n",
       "      <td>0</td>\n",
       "      <td>0</td>\n",
       "      <td>10628</td>\n",
       "      <td>207</td>\n",
       "      <td>200</td>\n",
       "    </tr>\n",
       "    <tr>\n",
       "      <th>4</th>\n",
       "      <td>408906914723295232</td>\n",
       "      <td>1386325980</td>\n",
       "      <td>capyvixowe</td>\n",
       "      <td>surf</td>\n",
       "      <td>-1</td>\n",
       "      <td>0</td>\n",
       "      <td>0</td>\n",
       "      <td>0</td>\n",
       "      <td>35</td>\n",
       "      <td>17</td>\n",
       "      <td>34</td>\n",
       "    </tr>\n",
       "    <tr>\n",
       "      <th>...</th>\n",
       "      <td>...</td>\n",
       "      <td>...</td>\n",
       "      <td>...</td>\n",
       "      <td>...</td>\n",
       "      <td>...</td>\n",
       "      <td>...</td>\n",
       "      <td>...</td>\n",
       "      <td>...</td>\n",
       "      <td>...</td>\n",
       "      <td>...</td>\n",
       "      <td>...</td>\n",
       "    </tr>\n",
       "    <tr>\n",
       "      <th>111918</th>\n",
       "      <td>425138243257253888</td>\n",
       "      <td>1390195830</td>\n",
       "      <td>Yanch_96</td>\n",
       "      <td>httptcoqnoddqzuz7</td>\n",
       "      <td>-1</td>\n",
       "      <td>0</td>\n",
       "      <td>0</td>\n",
       "      <td>0</td>\n",
       "      <td>1138</td>\n",
       "      <td>32</td>\n",
       "      <td>46</td>\n",
       "    </tr>\n",
       "    <tr>\n",
       "      <th>111919</th>\n",
       "      <td>425138339503943682</td>\n",
       "      <td>1390195853</td>\n",
       "      <td>tkit_on</td>\n",
       "      <td>taaannyaaa</td>\n",
       "      <td>-1</td>\n",
       "      <td>0</td>\n",
       "      <td>0</td>\n",
       "      <td>0</td>\n",
       "      <td>4822</td>\n",
       "      <td>38</td>\n",
       "      <td>32</td>\n",
       "    </tr>\n",
       "    <tr>\n",
       "      <th>111920</th>\n",
       "      <td>425138437684215808</td>\n",
       "      <td>1390195876</td>\n",
       "      <td>ckooker1</td>\n",
       "      <td></td>\n",
       "      <td>-1</td>\n",
       "      <td>0</td>\n",
       "      <td>0</td>\n",
       "      <td>1</td>\n",
       "      <td>165</td>\n",
       "      <td>13</td>\n",
       "      <td>16</td>\n",
       "    </tr>\n",
       "    <tr>\n",
       "      <th>111921</th>\n",
       "      <td>425138490452344832</td>\n",
       "      <td>1390195889</td>\n",
       "      <td>LisaBeroud</td>\n",
       "      <td>rt _them__ lisaberoud</td>\n",
       "      <td>-1</td>\n",
       "      <td>0</td>\n",
       "      <td>1</td>\n",
       "      <td>0</td>\n",
       "      <td>2516</td>\n",
       "      <td>187</td>\n",
       "      <td>265</td>\n",
       "    </tr>\n",
       "    <tr>\n",
       "      <th>111922</th>\n",
       "      <td>425138595251625984</td>\n",
       "      <td>1390195914</td>\n",
       "      <td>sukapavlov</td>\n",
       "      <td></td>\n",
       "      <td>-1</td>\n",
       "      <td>0</td>\n",
       "      <td>0</td>\n",
       "      <td>0</td>\n",
       "      <td>7778</td>\n",
       "      <td>146</td>\n",
       "      <td>66</td>\n",
       "    </tr>\n",
       "  </tbody>\n",
       "</table>\n",
       "<p>111923 rows × 11 columns</p>\n",
       "</div>"
      ],
      "text/plain": [
       "                        id       tdate            tmane  \\\n",
       "0       408906762813579264  1386325944  dugarchikbellko   \n",
       "1       408906818262687744  1386325957     nugemycejela   \n",
       "2       408906858515398656  1386325966          4post21   \n",
       "3       408906914437685248  1386325980         Poliwake   \n",
       "4       408906914723295232  1386325980       capyvixowe   \n",
       "...                    ...         ...              ...   \n",
       "111918  425138243257253888  1390195830         Yanch_96   \n",
       "111919  425138339503943682  1390195853          tkit_on   \n",
       "111920  425138437684215808  1390195876         ckooker1   \n",
       "111921  425138490452344832  1390195889       LisaBeroud   \n",
       "111922  425138595251625984  1390195914       sukapavlov   \n",
       "\n",
       "                              ttext  ttype  trep  tfav  tstcount   tfol  \\\n",
       "0                                 d     -1     0     0         0   8064   \n",
       "1              urban terror             -1     0     0         0     26   \n",
       "2                 elina_4post           -1     0     0         0    718   \n",
       "3                 httptcojclnzvnv3s     -1     0     0         0  10628   \n",
       "4                         surf          -1     0     0         0     35   \n",
       "...                             ...    ...   ...   ...       ...    ...   \n",
       "111918            httptcoqnoddqzuz7     -1     0     0         0   1138   \n",
       "111919            taaannyaaa            -1     0     0         0   4822   \n",
       "111920                                  -1     0     0         1    165   \n",
       "111921   rt _them__ lisaberoud          -1     0     1         0   2516   \n",
       "111922                                  -1     0     0         0   7778   \n",
       "\n",
       "        tfrien  listcount  \n",
       "0          111         94  \n",
       "1           42         39  \n",
       "2           49        249  \n",
       "3          207        200  \n",
       "4           17         34  \n",
       "...        ...        ...  \n",
       "111918      32         46  \n",
       "111919      38         32  \n",
       "111920      13         16  \n",
       "111921     187        265  \n",
       "111922     146         66  \n",
       "\n",
       "[111923 rows x 11 columns]"
      ]
     },
     "execution_count": 13,
     "metadata": {},
     "output_type": "execute_result"
    }
   ],
   "source": [
    "negative"
   ]
  },
  {
   "cell_type": "markdown",
   "metadata": {},
   "source": [
    "# Готовим обучающую и тестовую выборку"
   ]
  },
  {
   "cell_type": "code",
   "execution_count": 22,
   "metadata": {},
   "outputs": [],
   "source": [
    "X = np.hstack([positive[\"ttext\"].values[:50000] , negative[\"ttext\"].values[:50000]])\n",
    "y = (np.hstack([positive[\"ttype\"].values[:50000] , negative[\"ttype\"].values[:50000]]) + 1) / 2\n",
    "y = np.eye(2)[y.reshape(-1).astype(np.int8)]"
   ]
  },
  {
   "cell_type": "code",
   "execution_count": 23,
   "metadata": {},
   "outputs": [
    {
     "name": "stdout",
     "output_type": "stream",
     "text": [
      "(100000,) (100000, 2) False\n"
     ]
    }
   ],
   "source": [
    "print(X.shape, y.shape, X.shape == y.shape)"
   ]
  },
  {
   "cell_type": "code",
   "execution_count": 20,
   "metadata": {},
   "outputs": [],
   "source": [
    "def vectorizator(X:np.array):\n",
    "    tokens = []\n",
    "    max_lenth = 0\n",
    "    for i in X:\n",
    "        tokens.append(word_tokenize(''.join( c for c in re.sub(r'', '', i) if  c not in '.,!()-:?' )))\n",
    "        if len(tokens[-1]) > max_lenth:\n",
    "            max_lenth = len(tokens[-1])\n",
    "    \n",
    "    print(f\"Максимальная длинна сообщения: {max_lenth}\")\n",
    "    \n",
    "    for i in range(len(tokens)):\n",
    "        tokens[i].extend([0 for x in range(max_lenth - len(tokens[i]))])\n",
    "    \n",
    "    vec = np.ndarray(shape=(len(X), max_lenth, 300))\n",
    "    \n",
    "    for phrase in range(len(tokens)):\n",
    "        for word in range(len(tokens[phrase])):\n",
    "            if tokens[phrase][word] == 0:\n",
    "                vec[phrase, word] = np.zeros(shape = (1, 300))\n",
    "            else:\n",
    "                try :\n",
    "                    vec[phrase, word] = navec[tokens[phrase][word].lower()]\n",
    "                except KeyError:\n",
    "                    vec[phrase, word] = np.zeros(shape = (1, 300))\n",
    "    \n",
    "    return vec"
   ]
  },
  {
   "cell_type": "code",
   "execution_count": 24,
   "metadata": {},
   "outputs": [
    {
     "name": "stdout",
     "output_type": "stream",
     "text": [
      "Максимальная длинна сообщения: 18\n"
     ]
    }
   ],
   "source": [
    "X = vectorizator(X)"
   ]
  },
  {
   "cell_type": "code",
   "execution_count": 25,
   "metadata": {},
   "outputs": [],
   "source": [
    "np.save(\"/home/gpu/DataDrive/TempData/X\", X)\n",
    "np.save(\"/home/gpu/DataDrive/TempData/y\", y)"
   ]
  },
  {
   "cell_type": "markdown",
   "metadata": {},
   "source": [
    "# LSTM go brrrrr"
   ]
  },
  {
   "cell_type": "code",
   "execution_count": 7,
   "metadata": {},
   "outputs": [],
   "source": [
    "X = np.load(\"/home/gpu/DataDrive/TempData/X.npy\")\n",
    "y = np.load(\"/home/gpu/DataDrive/TempData/y.npy\")"
   ]
  },
  {
   "cell_type": "code",
   "execution_count": 13,
   "metadata": {},
   "outputs": [],
   "source": [
    "test_idx = sample(range(0, len(X)), int(len(X) / 10))"
   ]
  },
  {
   "cell_type": "code",
   "execution_count": 32,
   "metadata": {},
   "outputs": [
    {
     "name": "stdout",
     "output_type": "stream",
     "text": [
      "WARNING:tensorflow:From /home/gpu/miniconda3/lib/python3.7/site-packages/keras/backend/tensorflow_backend.py:74: The name tf.get_default_graph is deprecated. Please use tf.compat.v1.get_default_graph instead.\n",
      "\n",
      "WARNING:tensorflow:From /home/gpu/miniconda3/lib/python3.7/site-packages/keras/backend/tensorflow_backend.py:517: The name tf.placeholder is deprecated. Please use tf.compat.v1.placeholder instead.\n",
      "\n",
      "WARNING:tensorflow:From /home/gpu/miniconda3/lib/python3.7/site-packages/keras/backend/tensorflow_backend.py:4138: The name tf.random_uniform is deprecated. Please use tf.random.uniform instead.\n",
      "\n",
      "WARNING:tensorflow:From /home/gpu/miniconda3/lib/python3.7/site-packages/keras/backend/tensorflow_backend.py:133: The name tf.placeholder_with_default is deprecated. Please use tf.compat.v1.placeholder_with_default instead.\n",
      "\n",
      "WARNING:tensorflow:From /home/gpu/miniconda3/lib/python3.7/site-packages/keras/backend/tensorflow_backend.py:3445: calling dropout (from tensorflow.python.ops.nn_ops) with keep_prob is deprecated and will be removed in a future version.\n",
      "Instructions for updating:\n",
      "Please use `rate` instead of `keep_prob`. Rate should be set to `rate = 1 - keep_prob`.\n",
      "WARNING:tensorflow:From /home/gpu/miniconda3/lib/python3.7/site-packages/keras/optimizers.py:790: The name tf.train.Optimizer is deprecated. Please use tf.compat.v1.train.Optimizer instead.\n",
      "\n",
      "WARNING:tensorflow:From /home/gpu/miniconda3/lib/python3.7/site-packages/keras/backend/tensorflow_backend.py:3295: The name tf.log is deprecated. Please use tf.math.log instead.\n",
      "\n",
      "_________________________________________________________________\n",
      "Layer (type)                 Output Shape              Param #   \n",
      "=================================================================\n",
      "lstm_1 (LSTM)                (None, 200)               400800    \n",
      "_________________________________________________________________\n",
      "dense_1 (Dense)              (None, 50)                10050     \n",
      "_________________________________________________________________\n",
      "dense_2 (Dense)              (None, 25)                1275      \n",
      "_________________________________________________________________\n",
      "dense_3 (Dense)              (None, 5)                 130       \n",
      "_________________________________________________________________\n",
      "dense_4 (Dense)              (None, 2)                 12        \n",
      "=================================================================\n",
      "Total params: 412,267\n",
      "Trainable params: 412,267\n",
      "Non-trainable params: 0\n",
      "_________________________________________________________________\n",
      "None\n"
     ]
    }
   ],
   "source": [
    "sentiment_predictor = Sequential()\n",
    "\n",
    "sentiment_predictor.add(LSTM(200, dropout=0.2, recurrent_dropout=0.2, input_shape=(18,300)))\n",
    "sentiment_predictor.add(Dense(50,activation='sigmoid'))\n",
    "sentiment_predictor.add(Dense(25,activation='sigmoid'))\n",
    "sentiment_predictor.add(Dense(5,activation='sigmoid'))\n",
    "sentiment_predictor.add(Dense(2,activation='softmax'))\n",
    "sentiment_predictor.compile(loss = 'categorical_crossentropy', optimizer='adam',metrics = ['accuracy'])\n",
    "print(sentiment_predictor.summary())"
   ]
  },
  {
   "cell_type": "code",
   "execution_count": 33,
   "metadata": {},
   "outputs": [
    {
     "name": "stdout",
     "output_type": "stream",
     "text": [
      "WARNING:tensorflow:From /home/gpu/miniconda3/lib/python3.7/site-packages/tensorflow_core/python/ops/math_grad.py:1424: where (from tensorflow.python.ops.array_ops) is deprecated and will be removed in a future version.\n",
      "Instructions for updating:\n",
      "Use tf.where in 2.0, which has the same broadcast rule as np.where\n",
      "WARNING:tensorflow:From /home/gpu/miniconda3/lib/python3.7/site-packages/keras/backend/tensorflow_backend.py:986: The name tf.assign_add is deprecated. Please use tf.compat.v1.assign_add instead.\n",
      "\n",
      "WARNING:tensorflow:From /home/gpu/miniconda3/lib/python3.7/site-packages/keras/backend/tensorflow_backend.py:973: The name tf.assign is deprecated. Please use tf.compat.v1.assign instead.\n",
      "\n",
      "WARNING:tensorflow:From /home/gpu/miniconda3/lib/python3.7/site-packages/keras/backend/tensorflow_backend.py:2741: The name tf.Session is deprecated. Please use tf.compat.v1.Session instead.\n",
      "\n",
      "Train on 90000 samples, validate on 10000 samples\n",
      "Epoch 1/10\n",
      "WARNING:tensorflow:From /home/gpu/miniconda3/lib/python3.7/site-packages/keras/backend/tensorflow_backend.py:174: The name tf.get_default_session is deprecated. Please use tf.compat.v1.get_default_session instead.\n",
      "\n",
      "WARNING:tensorflow:From /home/gpu/miniconda3/lib/python3.7/site-packages/keras/backend/tensorflow_backend.py:181: The name tf.ConfigProto is deprecated. Please use tf.compat.v1.ConfigProto instead.\n",
      "\n",
      "WARNING:tensorflow:From /home/gpu/miniconda3/lib/python3.7/site-packages/keras/backend/tensorflow_backend.py:190: The name tf.global_variables is deprecated. Please use tf.compat.v1.global_variables instead.\n",
      "\n",
      "WARNING:tensorflow:From /home/gpu/miniconda3/lib/python3.7/site-packages/keras/backend/tensorflow_backend.py:199: The name tf.is_variable_initialized is deprecated. Please use tf.compat.v1.is_variable_initialized instead.\n",
      "\n",
      "WARNING:tensorflow:From /home/gpu/miniconda3/lib/python3.7/site-packages/keras/backend/tensorflow_backend.py:206: The name tf.variables_initializer is deprecated. Please use tf.compat.v1.variables_initializer instead.\n",
      "\n",
      "90000/90000 [==============================] - 18s 203us/step - loss: 0.8520 - acc: 0.5004 - val_loss: 0.8222 - val_acc: 0.4961\n",
      "Epoch 2/10\n",
      "90000/90000 [==============================] - 11s 118us/step - loss: 0.7846 - acc: 0.5004 - val_loss: 0.7482 - val_acc: 0.4961\n",
      "Epoch 3/10\n",
      "90000/90000 [==============================] - 11s 117us/step - loss: 0.7322 - acc: 0.5004 - val_loss: 0.7209 - val_acc: 0.4961\n",
      "Epoch 4/10\n",
      "90000/90000 [==============================] - 11s 117us/step - loss: 0.7122 - acc: 0.5004 - val_loss: 0.7063 - val_acc: 0.4961\n",
      "Epoch 5/10\n",
      "90000/90000 [==============================] - 11s 117us/step - loss: 0.7005 - acc: 0.5004 - val_loss: 0.6967 - val_acc: 0.4961\n",
      "Epoch 6/10\n",
      "90000/90000 [==============================] - 11s 117us/step - loss: 0.6917 - acc: 0.5004 - val_loss: 0.6895 - val_acc: 0.4961\n",
      "Epoch 7/10\n",
      "90000/90000 [==============================] - 11s 117us/step - loss: 0.6865 - acc: 0.5004 - val_loss: 0.6850 - val_acc: 0.4961\n",
      "Epoch 8/10\n",
      "90000/90000 [==============================] - 11s 117us/step - loss: 0.6827 - acc: 0.5004 - val_loss: 0.6818 - val_acc: 0.4961\n",
      "Epoch 9/10\n",
      "90000/90000 [==============================] - 11s 117us/step - loss: 0.6799 - acc: 0.5004 - val_loss: 0.6789 - val_acc: 0.4961\n",
      "Epoch 10/10\n",
      "90000/90000 [==============================] - 11s 118us/step - loss: 0.6778 - acc: 0.5004 - val_loss: 0.6769 - val_acc: 0.4961\n"
     ]
    }
   ],
   "source": [
    "history = sentiment_predictor.fit(\n",
    "    x=np.delete(X, test_idx, 0),\n",
    "    y=np.delete(y, test_idx, 0),\n",
    "    batch_size=10000,\n",
    "    epochs=10,\n",
    "    verbose=1,\n",
    "    callbacks=None,\n",
    "    validation_data=(X[test_idx], y[test_idx]),\n",
    "    shuffle=True\n",
    ")"
   ]
  },
  {
   "cell_type": "code",
   "execution_count": 5,
   "metadata": {},
   "outputs": [
    {
     "data": {
      "image/png": "[encoded data removed]",
      "text/plain": [
       "<Figure size 1224x576 with 2 Axes>"
      ]
     },
     "metadata": {
      "needs_background": "light"
     },
     "output_type": "display_data"
    }
   ],
   "source": [
    "with open('train_history.pickle', 'rb') as f:\n",
    "    history = pickle.load(f)\n",
    "\n",
    "plt.rcParams.update({'font.size': 16})\n",
    "fig, ax = plt.subplots(2, 1, figsize=(17,8))\n",
    "\n",
    "ax[0].plot(history['loss'], label=f\"Ошибка обучения\")\n",
    "ax[0].plot(history['val_loss'], label=f\"Ошибка валидации\")\n",
    "ax[0].set_xlabel(\"Эпохи обучения\")\n",
    "ax[0].set_ylabel(r\"Ошибка $Categorical$ $Crossentropy$\")\n",
    "ax[0].set_title(f\"Ошибка обучения модели для анализа текста\")\n",
    "ax[0].legend(loc=\"best\")\n",
    "\n",
    "ax[1].plot(history['acc'], label=f\"Точность на обучения\")\n",
    "ax[1].plot(history['val_acc'], label=f\"Точность на валидации\")\n",
    "ax[1].set_xlabel(\"Эпохи обучения\")\n",
    "ax[1].set_ylabel(r\"Ошибка $Accuracy$\")\n",
    "ax[1].set_title(f\"Точность обучения модели для анализа текста\")\n",
    "ax[1].legend(loc=\"best\")\n",
    "\n",
    "plt.subplots_adjust(hspace=0.3)\n",
    "\n",
    "plt.show()"
   ]
  },
  {
   "cell_type": "code",
   "execution_count": 35,
   "metadata": {},
   "outputs": [],
   "source": [
    "sentiment_predictor.save(\"sentiment_predictor\")"
   ]
  }
 ],
 "metadata": {
  "kernelspec": {
   "display_name": "Python 3",
   "language": "python",
   "name": "python3"
  },
  "language_info": {
   "codemirror_mode": {
    "name": "ipython",
    "version": 3
   },
   "file_extension": ".py",
   "mimetype": "text/x-python",
   "name": "python",
   "nbconvert_exporter": "python",
   "pygments_lexer": "ipython3",
   "version": "3.7.6"
  }
 },
 "nbformat": 4,
 "nbformat_minor": 4
}
